{
  "cells": [
    {
      "cell_type": "markdown",
      "source": [
        "Выбор датасета.\n",
        "\n",
        "Мой датасет представляет собой сегментацию медицинской маски. Еще недавно придумывали различные модели для сегментации и детектирования масок во время короновируса."
      ],
      "metadata": {
        "id": "8sWNeoQbUQ4R"
      }
    },
    {
      "cell_type": "code",
      "execution_count": 1,
      "metadata": {
        "colab": {
          "base_uri": "https://localhost:8080/"
        },
        "id": "mzVybJDpsmMk",
        "outputId": "38ecbb15-144b-4c30-834b-c491afa86c73"
      },
      "outputs": [
        {
          "output_type": "stream",
          "name": "stdout",
          "text": [
            "  % Total    % Received % Xferd  Average Speed   Time    Time     Time  Current\n",
            "                                 Dload  Upload   Total   Spent    Left  Speed\n",
            "  0     0    0     0    0     0      0      0 --:--:-- --:--:-- --:--:--     0\n",
            "100 78.9M  100 78.9M    0     0  17.9M      0  0:00:04  0:00:04 --:--:-- 28.2M\n",
            "Archive:  qw.zip\n",
            "  inflating: Info.txt                \n",
            "  inflating: images/coronavirus-4947340_1920.jpg  \n",
            "  inflating: images/coronavirus-5064371_1920.jpg  \n",
            "  inflating: images/mask-4898571_1920.jpg  \n",
            "  inflating: images/mask-5136259_1920.jpg  \n",
            "  inflating: images/mouth-guard-5060809_1920.jpg  \n",
            "  inflating: images/mouth-guard-5068146_1920.jpg  \n",
            "  inflating: images/nurse-4962034_1920.jpg  \n",
            "  inflating: images/pexels-andrea-piacquadio-3881247.jpg  \n",
            "  inflating: images/pexels-anna-shvets-3902881.jpg  \n",
            "  inflating: images/pexels-anna-shvets-3943881.jpg  \n",
            "  inflating: images/pexels-anna-shvets-3943882.jpg  \n",
            "  inflating: images/pexels-anna-shvets-3943883.jpg  \n",
            "  inflating: images/pexels-anna-shvets-3943884.jpg  \n",
            "  inflating: images/pexels-anna-shvets-3943910.jpg  \n",
            "  inflating: images/pexels-anna-shvets-3943952.jpg  \n",
            "  inflating: images/pexels-anna-shvets-3943953.jpg  \n",
            "  inflating: images/pexels-anna-shvets-3943954.jpg  \n",
            "  inflating: images/pexels-anna-shvets-3962212.jpg  \n",
            "  inflating: images/pexels-anna-shvets-3962214.jpg  \n",
            "  inflating: images/pexels-anna-shvets-3962216.jpg  \n",
            "  inflating: images/pexels-anna-shvets-3962218.jpg  \n",
            "  inflating: images/pexels-anna-shvets-3962258.jpg  \n",
            "  inflating: images/pexels-anna-shvets-3962265.jpg  \n",
            "  inflating: images/pexels-anna-shvets-3962284.jpg  \n",
            "  inflating: images/pexels-anna-shvets-3962286.jpg  \n",
            "  inflating: images/pexels-anna-shvets-3962287.jpg  \n",
            "  inflating: images/pexels-anna-shvets-3962288.jpg  \n",
            "  inflating: images/pexels-anna-shvets-3962289.jpg  \n",
            "  inflating: images/pexels-anna-shvets-3962291.jpg  \n",
            "  inflating: images/pexels-anna-shvets-3962330.jpg  \n",
            "  inflating: images/pexels-anna-shvets-3962337.jpg  \n",
            "  inflating: images/pexels-anna-shvets-3986949.jpg  \n",
            "  inflating: images/pexels-anna-shvets-3986954.jpg  \n",
            "  inflating: images/pexels-anna-shvets-3986972.jpg  \n",
            "  inflating: images/pexels-anna-shvets-4586993.jpg  \n",
            "  inflating: images/pexels-anna-tarazevich-6027374.jpg  \n",
            "  inflating: images/pexels-artem-podrez-6779218.jpg  \n",
            "  inflating: images/pexels-artem-podrez-6779219.jpg  \n",
            "  inflating: images/pexels-artem-podrez-6779299.jpg  \n",
            "  inflating: images/pexels-artem-podrez-6779306.jpg  \n",
            "  inflating: images/pexels-artem-podrez-6823497.jpg  \n",
            "  inflating: images/pexels-artem-podrez-6823563.jpg  \n",
            "  inflating: images/pexels-artem-podrez-6823570.jpg  \n",
            "  inflating: images/pexels-charlotte-may-5965520.jpg  \n",
            "  inflating: images/pexels-charlotte-may-5965521.jpg  \n",
            "  inflating: images/pexels-charlotte-may-5965534.jpg  \n",
            "  inflating: images/pexels-charlotte-may-5965539.jpg  \n",
            "  inflating: images/pexels-charlotte-may-5965586.jpg  \n",
            "  inflating: images/pexels-charlotte-may-5965588.jpg  \n",
            "  inflating: images/pexels-charlotte-may-5965590.jpg  \n",
            "  inflating: images/pexels-charlotte-may-5965592.jpg  \n",
            "  inflating: images/pexels-charlotte-may-5965596.jpg  \n",
            "  inflating: images/pexels-charlotte-may-5965597.jpg  \n",
            "  inflating: images/pexels-charlotte-may-5965601.jpg  \n",
            "  inflating: images/pexels-charlotte-may-5965608.jpg  \n",
            "  inflating: images/pexels-charlotte-may-5965609.jpg  \n",
            "  inflating: images/pexels-charlotte-may-5965610.jpg  \n",
            "  inflating: images/pexels-charlotte-may-5965612.jpg  \n",
            "  inflating: images/pexels-charlotte-may-5965616.jpg  \n",
            "  inflating: images/pexels-charlotte-may-5965617.jpg  \n",
            "  inflating: images/pexels-charlotte-may-5965618.jpg  \n",
            "  inflating: images/pexels-charlotte-may-5965619.jpg  \n",
            "  inflating: images/pexels-charlotte-may-5965620.jpg  \n",
            "  inflating: images/pexels-charlotte-may-5965623.jpg  \n",
            "  inflating: images/pexels-charlotte-may-5965639.jpg  \n",
            "  inflating: images/pexels-charlotte-may-5965644.jpg  \n",
            "  inflating: images/pexels-charlotte-may-5965645.jpg  \n",
            "  inflating: images/pexels-charlotte-may-5965646.jpg  \n",
            "  inflating: images/pexels-charlotte-may-5965648.jpg  \n",
            "  inflating: images/pexels-charlotte-may-5965651.jpg  \n",
            "  inflating: images/pexels-charlotte-may-5965674.jpg  \n",
            "  inflating: images/pexels-cottonbro-3951620.jpg  \n",
            "  inflating: images/pexels-cottonbro-3951637.jpg  \n",
            "  inflating: images/pexels-cottonbro-3951864.jpg  \n",
            "  inflating: images/pexels-cottonbro-3951865.jpg  \n",
            "  inflating: images/pexels-cottonbro-3951869.jpg  \n",
            "  inflating: images/pexels-cottonbro-3951878.jpg  \n",
            "  inflating: images/pexels-cottonbro-3951882.jpg  \n",
            "  inflating: images/pexels-cottonbro-3951896.jpg  \n",
            "  inflating: images/pexels-cottonbro-3951897.jpg  \n",
            "  inflating: images/pexels-cottonbro-4604742.jpg  \n",
            "  inflating: images/pexels-edmond-dant├иs-4347447.jpg  \n",
            "  inflating: images/pexels-evelina-zhu-5434017.jpg  \n",
            "  inflating: images/pexels-evg-culture-3869390.jpg  \n",
            "  inflating: images/pexels-evg-culture-3869391.jpg  \n",
            "  inflating: images/pexels-gustavo-fring-3983407.jpg  \n",
            "  inflating: images/pexels-gustavo-fring-3985172.jpg  \n",
            "  inflating: images/pexels-gustavo-fring-4000622.jpg  \n",
            "  inflating: images/pexels-gustavo-fring-4005076.jpg  \n",
            "  inflating: images/pexels-gustavo-fring-4127323.jpg  \n",
            "  inflating: images/pexels-gustavo-fring-4127338.jpg  \n",
            "  inflating: images/pexels-gustavo-fring-4127431.jpg  \n",
            "  inflating: images/pexels-gustavo-fring-4127499.jpg  \n",
            "  inflating: images/pexels-gustavo-fring-4127590.jpg  \n",
            "  inflating: images/pexels-gustavo-fring-4254141.jpg  \n",
            "  inflating: images/pexels-ivan-samkov-4240583.jpg  \n",
            "  inflating: images/pexels-jessica-ticozzelli-5670180.jpg  \n",
            "  inflating: images/pexels-julia-m-cameron-4145249.jpg  \n",
            "  inflating: images/pexels-keira-burton-6084304.jpg  \n",
            "  inflating: images/pexels-keira-burton-6084459.jpg  \n",
            "  inflating: images/pexels-keira-burton-6084464.jpg  \n",
            "  inflating: images/pexels-keira-burton-6084467.jpg  \n",
            "  inflating: images/pexels-keira-burton-6084473.jpg  \n",
            "  inflating: images/pexels-keira-burton-6084480.jpg  \n",
            "  inflating: images/pexels-keira-burton-6084481.jpg  \n",
            "  inflating: images/pexels-keira-burton-6084483.jpg  \n",
            "  inflating: images/pexels-ketut-subiyanto-4132395.jpg  \n",
            "  inflating: images/pexels-ketut-subiyanto-4132410.jpg  \n",
            "  inflating: images/pexels-ketut-subiyanto-4429140.jpg  \n",
            "  inflating: images/pexels-ketut-subiyanto-4472975.jpg  \n",
            "  inflating: images/pexels-ketut-subiyanto-4472979.jpg  \n",
            "  inflating: images/pexels-ketut-subiyanto-4546132.jpg  \n",
            "  inflating: images/pexels-ketut-subiyanto-4546148.jpg  \n",
            "  inflating: images/pexels-laura-james-6097706.jpg  \n",
            "  inflating: images/pexels-laura-james-6097793.jpg  \n",
            "  inflating: images/pexels-laura-james-6097798.jpg  \n",
            "  inflating: images/pexels-laura-james-6097839.jpg  \n",
            "  inflating: images/pexels-laura-james-6097843.jpg  \n",
            "  inflating: images/pexels-laura-james-6097849.jpg  \n",
            "  inflating: images/pexels-laura-james-6097850.jpg  \n",
            "  inflating: images/pexels-laura-james-6097851.jpg  \n",
            "  inflating: images/pexels-laura-james-6097853.jpg  \n",
            "  inflating: images/pexels-laura-james-6097854.jpg  \n",
            "  inflating: images/pexels-laura-james-6097857.jpg  \n",
            "  inflating: images/pexels-laura-james-6097859.jpg  \n",
            "  inflating: images/pexels-laura-james-6097862.jpg  \n",
            "  inflating: images/pexels-laura-james-6097863.jpg  \n",
            "  inflating: images/pexels-laura-james-6097864.jpg  \n",
            "  inflating: images/pexels-laura-james-6097868.jpg  \n",
            "  inflating: images/pexels-laura-james-6097869.jpg  \n",
            "  inflating: images/pexels-laura-james-6097870.jpg  \n",
            "  inflating: images/pexels-laura-james-6097877.jpg  \n",
            "  inflating: images/pexels-laura-james-6097879.jpg  \n",
            "  inflating: images/pexels-laura-james-6097887.jpg  \n",
            "  inflating: images/pexels-laura-james-6097935.jpg  \n",
            "  inflating: images/pexels-laura-james-6097936.jpg  \n",
            "  inflating: images/pexels-laura-james-6097938.jpg  \n",
            "  inflating: images/pexels-laura-james-6097939.jpg  \n",
            "  inflating: images/pexels-laura-james-6097940.jpg  \n",
            "  inflating: images/pexels-laura-james-6097947.jpg  \n",
            "  inflating: images/pexels-laura-james-6097950.jpg  \n",
            "  inflating: images/pexels-laura-james-6097953.jpg  \n",
            "  inflating: images/pexels-laura-james-6097958.jpg  \n",
            "  inflating: images/pexels-laura-james-6097961.jpg  \n",
            "  inflating: images/pexels-laura-james-6097962.jpg  \n",
            "  inflating: images/pexels-laura-james-6097963.jpg  \n",
            "  inflating: images/pexels-laura-james-6097964.jpg  \n",
            "  inflating: images/pexels-laura-james-6097966.jpg  \n",
            "  inflating: images/pexels-laura-james-6097973.jpg  \n",
            "  inflating: images/pexels-laura-james-6097974.jpg  \n",
            "  inflating: images/pexels-laura-james-6097978.jpg  \n",
            "  inflating: images/pexels-laura-james-6097981.jpg  \n",
            "  inflating: images/pexels-laura-james-6097982.jpg  \n",
            "  inflating: images/pexels-laura-james-6097984.jpg  \n",
            "  inflating: images/pexels-laura-james-6097985.jpg  \n",
            "  inflating: images/pexels-laura-james-6097988.jpg  \n",
            "  inflating: images/pexels-laura-james-6097993.jpg  \n",
            "  inflating: images/pexels-laura-james-6097996.jpg  \n",
            "  inflating: images/pexels-laura-james-6098002.jpg  \n",
            "  inflating: images/pexels-laura-james-6098003.jpg  \n",
            "  inflating: images/pexels-laura-james-6098004.jpg  \n",
            "  inflating: images/pexels-laura-james-6098005.jpg  \n",
            "  inflating: images/pexels-laura-james-6098050.jpg  \n",
            "  inflating: images/pexels-laura-james-6098051.jpg  \n",
            "  inflating: images/pexels-laura-james-6098060.jpg  \n",
            "  inflating: images/pexels-laura-james-6098061.jpg  \n",
            "  inflating: images/pexels-laura-james-6098064.jpg  \n",
            "  inflating: images/pexels-laura-james-6098067.jpg  \n",
            "  inflating: images/pexels-laura-james-6098068.jpg  \n",
            "  inflating: images/pexels-laura-james-6098069.jpg  \n",
            "  inflating: images/pexels-laura-james-6098070.jpg  \n",
            "  inflating: images/pexels-laura-james-6098071.jpg  \n",
            "  inflating: images/pexels-laura-james-6098072.jpg  \n",
            "  inflating: images/pexels-laura-james-6098073.jpg  \n",
            "  inflating: images/pexels-lisa-fotios-6140873.jpg  \n",
            "  inflating: images/pexels-lucian-potlog-3991782.jpg  \n",
            "  inflating: images/pexels-maksim-goncharenok-4662960.jpg  \n",
            "  inflating: images/pexels-marcelo-chagas-4565420.jpg  \n",
            "  inflating: images/pexels-min-an-1165655.jpg  \n",
            "  inflating: images/pexels-nandhu-kumar-3991311.jpg  \n",
            "  inflating: images/pexels-natasha-lois-5070755.jpg  \n",
            "  inflating: images/pexels-norma-mortenson-4393254.jpg  \n",
            "  inflating: images/pexels-norma-mortenson-4393429.jpg  \n",
            "  inflating: images/pexels-nothing-ahead-3571628.jpg  \n",
            "  inflating: images/pexels-oleg-magni-4058869.jpg  \n",
            "  inflating: images/pexels-oleg-magni-4058871.jpg  \n",
            "  inflating: images/pexels-oleg-magni-4058872.jpg  \n",
            "  inflating: images/pexels-ono-kosuki-5999784.jpg  \n",
            "  inflating: images/pexels-ono-kosuki-5999789.jpg  \n",
            "  inflating: images/pexels-ono-kosuki-5999796.jpg  \n",
            "  inflating: images/pexels-ono-kosuki-5999938.jpg  \n",
            "  inflating: images/pexels-ono-kosuki-5999940.jpg  \n",
            "  inflating: images/pexels-ono-kosuki-5999945.jpg  \n",
            "  inflating: images/pexels-pixabay-209271.jpg  \n",
            "  inflating: images/pexels-rfstudio-4177563.jpg  \n",
            "  inflating: images/pexels-rfstudio-4177606.jpg  \n",
            "  inflating: images/pexels-rfstudio-4177640.jpg  \n",
            "  inflating: images/pexels-rfstudio-4177650.jpg  \n",
            "  inflating: images/pexels-rfstudio-4177657.jpg  \n",
            "  inflating: images/pexels-samson-katt-5225252.jpg  \n",
            "  inflating: images/pexels-sora-shimazaki-5938383.jpg  \n",
            "  inflating: images/pexels-sora-shimazaki-5938384.jpg  \n",
            "  inflating: images/pexels-sora-shimazaki-5938389.jpg  \n",
            "  inflating: images/pexels-sora-shimazaki-5938616.jpg  \n",
            "  inflating: images/pexels-sora-shimazaki-5938619.jpg  \n",
            "  inflating: images/pexels-sora-shimazaki-5938621.jpg  \n",
            "  inflating: images/pexels-sunyu-kim-2001768.jpg  \n",
            "  inflating: images/pexels-thirdman-5327585.jpg  \n",
            "  inflating: images/pexels-thirdman-5327589.jpg  \n",
            "  inflating: images/pexels-thirdman-5327872.jpg  \n",
            "  inflating: images/pexels-thirdman-5684642.jpg  \n",
            "  inflating: images/pexels-thirdman-5961414.jpg  \n",
            "  inflating: images/pexels-tima-miroshnichenko-5951644.jpg  \n",
            "  inflating: images/pexels-tima-miroshnichenko-6826787.jpg  \n",
            "  inflating: images/pexels-wendy-wei-4118828.jpg  \n",
            "  inflating: images/pexels-yogendra-singh-4037279.jpg  \n",
            "  inflating: images/pexels-zichuan-han-3941299.jpg  \n",
            "  inflating: images/pexels-╨┐╨░╨▓╨╡╨╗-╤Б╨╛╤А╨╛╨║╨╕╨╜-2324837.jpg  \n",
            "  inflating: images/student-5520411_1920.jpg  \n",
            "  inflating: images/student-5982704_1920.jpg  \n",
            "  inflating: images/teacher-5560962_1920.jpg  \n",
            "  inflating: images/woman-5951721_1920.jpg  \n",
            "  inflating: masks/coronavirus-4947340_1920.png  \n",
            "  inflating: masks/coronavirus-5064371_1920.png  \n",
            "  inflating: masks/mask-4898571_1920.png  \n",
            "  inflating: masks/mask-5136259_1920.png  \n",
            "  inflating: masks/mouth-guard-5060809_1920.png  \n",
            "  inflating: masks/mouth-guard-5068146_1920.png  \n",
            "  inflating: masks/nurse-4962034_1920.png  \n",
            "  inflating: masks/pexels-andrea-piacquadio-3881247.png  \n",
            "  inflating: masks/pexels-anna-shvets-3902881.png  \n",
            "  inflating: masks/pexels-anna-shvets-3943881.png  \n",
            "  inflating: masks/pexels-anna-shvets-3943882.png  \n",
            "  inflating: masks/pexels-anna-shvets-3943883.png  \n",
            "  inflating: masks/pexels-anna-shvets-3943884.png  \n",
            "  inflating: masks/pexels-anna-shvets-3943910.png  \n",
            "  inflating: masks/pexels-anna-shvets-3943952.png  \n",
            "  inflating: masks/pexels-anna-shvets-3943953.png  \n",
            "  inflating: masks/pexels-anna-shvets-3943954.png  \n",
            "  inflating: masks/pexels-anna-shvets-3962212.png  \n",
            "  inflating: masks/pexels-anna-shvets-3962214.png  \n",
            "  inflating: masks/pexels-anna-shvets-3962216.png  \n",
            "  inflating: masks/pexels-anna-shvets-3962218.png  \n",
            "  inflating: masks/pexels-anna-shvets-3962258.png  \n",
            "  inflating: masks/pexels-anna-shvets-3962265.png  \n",
            "  inflating: masks/pexels-anna-shvets-3962284.png  \n",
            "  inflating: masks/pexels-anna-shvets-3962286.png  \n",
            "  inflating: masks/pexels-anna-shvets-3962287.png  \n",
            "  inflating: masks/pexels-anna-shvets-3962288.png  \n",
            "  inflating: masks/pexels-anna-shvets-3962289.png  \n",
            "  inflating: masks/pexels-anna-shvets-3962291.png  \n",
            "  inflating: masks/pexels-anna-shvets-3962330.png  \n",
            "  inflating: masks/pexels-anna-shvets-3962337.png  \n",
            "  inflating: masks/pexels-anna-shvets-3986949.png  \n",
            "  inflating: masks/pexels-anna-shvets-3986954.png  \n",
            "  inflating: masks/pexels-anna-shvets-3986972.png  \n",
            "  inflating: masks/pexels-anna-shvets-4586993.png  \n",
            "  inflating: masks/pexels-anna-tarazevich-6027374.png  \n",
            "  inflating: masks/pexels-artem-podrez-6779218.png  \n",
            "  inflating: masks/pexels-artem-podrez-6779219.png  \n",
            "  inflating: masks/pexels-artem-podrez-6779299.png  \n",
            "  inflating: masks/pexels-artem-podrez-6779306.png  \n",
            "  inflating: masks/pexels-artem-podrez-6823497.png  \n",
            "  inflating: masks/pexels-artem-podrez-6823563.png  \n",
            "  inflating: masks/pexels-artem-podrez-6823570.png  \n",
            "  inflating: masks/pexels-charlotte-may-5965520.png  \n",
            "  inflating: masks/pexels-charlotte-may-5965521.png  \n",
            "  inflating: masks/pexels-charlotte-may-5965534.png  \n",
            "  inflating: masks/pexels-charlotte-may-5965539.png  \n",
            "  inflating: masks/pexels-charlotte-may-5965586.png  \n",
            "  inflating: masks/pexels-charlotte-may-5965588.png  \n",
            "  inflating: masks/pexels-charlotte-may-5965590.png  \n",
            "  inflating: masks/pexels-charlotte-may-5965592.png  \n",
            "  inflating: masks/pexels-charlotte-may-5965596.png  \n",
            "  inflating: masks/pexels-charlotte-may-5965597.png  \n",
            "  inflating: masks/pexels-charlotte-may-5965601.png  \n",
            "  inflating: masks/pexels-charlotte-may-5965608.png  \n",
            "  inflating: masks/pexels-charlotte-may-5965609.png  \n",
            "  inflating: masks/pexels-charlotte-may-5965610.png  \n",
            "  inflating: masks/pexels-charlotte-may-5965612.png  \n",
            "  inflating: masks/pexels-charlotte-may-5965616.png  \n",
            "  inflating: masks/pexels-charlotte-may-5965617.png  \n",
            "  inflating: masks/pexels-charlotte-may-5965618.png  \n",
            "  inflating: masks/pexels-charlotte-may-5965619.png  \n",
            "  inflating: masks/pexels-charlotte-may-5965620.png  \n",
            "  inflating: masks/pexels-charlotte-may-5965623.png  \n",
            "  inflating: masks/pexels-charlotte-may-5965639.png  \n",
            "  inflating: masks/pexels-charlotte-may-5965644.png  \n",
            "  inflating: masks/pexels-charlotte-may-5965645.png  \n",
            "  inflating: masks/pexels-charlotte-may-5965646.png  \n",
            "  inflating: masks/pexels-charlotte-may-5965648.png  \n",
            "  inflating: masks/pexels-charlotte-may-5965651.png  \n",
            "  inflating: masks/pexels-charlotte-may-5965674.png  \n",
            "  inflating: masks/pexels-cottonbro-3951620.png  \n",
            "  inflating: masks/pexels-cottonbro-3951637.png  \n",
            "  inflating: masks/pexels-cottonbro-3951864.png  \n",
            "  inflating: masks/pexels-cottonbro-3951865.png  \n",
            "  inflating: masks/pexels-cottonbro-3951869.png  \n",
            "  inflating: masks/pexels-cottonbro-3951878.png  \n",
            "  inflating: masks/pexels-cottonbro-3951882.png  \n",
            "  inflating: masks/pexels-cottonbro-3951896.png  \n",
            "  inflating: masks/pexels-cottonbro-3951897.png  \n",
            "  inflating: masks/pexels-cottonbro-4604742.png  \n",
            "  inflating: masks/pexels-edmond-dant├иs-4347447.png  \n",
            "  inflating: masks/pexels-evelina-zhu-5434017.png  \n",
            "  inflating: masks/pexels-evg-culture-3869390.png  \n",
            "  inflating: masks/pexels-evg-culture-3869391.png  \n",
            "  inflating: masks/pexels-gustavo-fring-3983407.png  \n",
            "  inflating: masks/pexels-gustavo-fring-3985172.png  \n",
            "  inflating: masks/pexels-gustavo-fring-4000622.png  \n",
            "  inflating: masks/pexels-gustavo-fring-4005076.png  \n",
            "  inflating: masks/pexels-gustavo-fring-4127323.png  \n",
            "  inflating: masks/pexels-gustavo-fring-4127338.png  \n",
            "  inflating: masks/pexels-gustavo-fring-4127431.png  \n",
            "  inflating: masks/pexels-gustavo-fring-4127499.png  \n",
            "  inflating: masks/pexels-gustavo-fring-4127590.png  \n",
            "  inflating: masks/pexels-gustavo-fring-4254141.png  \n",
            "  inflating: masks/pexels-ivan-samkov-4240583.png  \n",
            "  inflating: masks/pexels-jessica-ticozzelli-5670180.png  \n",
            "  inflating: masks/pexels-julia-m-cameron-4145249.png  \n",
            "  inflating: masks/pexels-keira-burton-6084304.png  \n",
            "  inflating: masks/pexels-keira-burton-6084459.png  \n",
            "  inflating: masks/pexels-keira-burton-6084464.png  \n",
            "  inflating: masks/pexels-keira-burton-6084467.png  \n",
            "  inflating: masks/pexels-keira-burton-6084473.png  \n",
            "  inflating: masks/pexels-keira-burton-6084480.png  \n",
            "  inflating: masks/pexels-keira-burton-6084481.png  \n",
            "  inflating: masks/pexels-keira-burton-6084483.png  \n",
            "  inflating: masks/pexels-ketut-subiyanto-4132395.png  \n",
            "  inflating: masks/pexels-ketut-subiyanto-4132410.png  \n",
            "  inflating: masks/pexels-ketut-subiyanto-4429140.png  \n",
            "  inflating: masks/pexels-ketut-subiyanto-4472975.png  \n",
            "  inflating: masks/pexels-ketut-subiyanto-4472979.png  \n",
            "  inflating: masks/pexels-ketut-subiyanto-4546132.png  \n",
            "  inflating: masks/pexels-ketut-subiyanto-4546148.png  \n",
            "  inflating: masks/pexels-laura-james-6097706.png  \n",
            "  inflating: masks/pexels-laura-james-6097793.png  \n",
            "  inflating: masks/pexels-laura-james-6097798.png  \n",
            "  inflating: masks/pexels-laura-james-6097839.png  \n",
            "  inflating: masks/pexels-laura-james-6097843.png  \n",
            "  inflating: masks/pexels-laura-james-6097849.png  \n",
            "  inflating: masks/pexels-laura-james-6097850.png  \n",
            "  inflating: masks/pexels-laura-james-6097851.png  \n",
            "  inflating: masks/pexels-laura-james-6097853.png  \n",
            "  inflating: masks/pexels-laura-james-6097854.png  \n",
            "  inflating: masks/pexels-laura-james-6097857.png  \n",
            "  inflating: masks/pexels-laura-james-6097859.png  \n",
            "  inflating: masks/pexels-laura-james-6097862.png  \n",
            "  inflating: masks/pexels-laura-james-6097863.png  \n",
            "  inflating: masks/pexels-laura-james-6097864.png  \n",
            "  inflating: masks/pexels-laura-james-6097868.png  \n",
            "  inflating: masks/pexels-laura-james-6097869.png  \n",
            "  inflating: masks/pexels-laura-james-6097870.png  \n",
            "  inflating: masks/pexels-laura-james-6097877.png  \n",
            "  inflating: masks/pexels-laura-james-6097879.png  \n",
            "  inflating: masks/pexels-laura-james-6097887.png  \n",
            "  inflating: masks/pexels-laura-james-6097935.png  \n",
            "  inflating: masks/pexels-laura-james-6097936.png  \n",
            "  inflating: masks/pexels-laura-james-6097938.png  \n",
            "  inflating: masks/pexels-laura-james-6097939.png  \n",
            "  inflating: masks/pexels-laura-james-6097940.png  \n",
            "  inflating: masks/pexels-laura-james-6097947.png  \n",
            "  inflating: masks/pexels-laura-james-6097950.png  \n",
            "  inflating: masks/pexels-laura-james-6097953.png  \n",
            "  inflating: masks/pexels-laura-james-6097958.png  \n",
            "  inflating: masks/pexels-laura-james-6097961.png  \n",
            "  inflating: masks/pexels-laura-james-6097962.png  \n",
            "  inflating: masks/pexels-laura-james-6097963.png  \n",
            "  inflating: masks/pexels-laura-james-6097964.png  \n",
            "  inflating: masks/pexels-laura-james-6097966.png  \n",
            "  inflating: masks/pexels-laura-james-6097973.png  \n",
            "  inflating: masks/pexels-laura-james-6097974.png  \n",
            "  inflating: masks/pexels-laura-james-6097978.png  \n",
            "  inflating: masks/pexels-laura-james-6097981.png  \n",
            "  inflating: masks/pexels-laura-james-6097982.png  \n",
            "  inflating: masks/pexels-laura-james-6097984.png  \n",
            "  inflating: masks/pexels-laura-james-6097985.png  \n",
            "  inflating: masks/pexels-laura-james-6097988.png  \n",
            "  inflating: masks/pexels-laura-james-6097993.png  \n",
            "  inflating: masks/pexels-laura-james-6097996.png  \n",
            "  inflating: masks/pexels-laura-james-6098002.png  \n",
            "  inflating: masks/pexels-laura-james-6098003.png  \n",
            "  inflating: masks/pexels-laura-james-6098004.png  \n",
            "  inflating: masks/pexels-laura-james-6098005.png  \n",
            "  inflating: masks/pexels-laura-james-6098050.png  \n",
            "  inflating: masks/pexels-laura-james-6098051.png  \n",
            "  inflating: masks/pexels-laura-james-6098060.png  \n",
            "  inflating: masks/pexels-laura-james-6098061.png  \n",
            "  inflating: masks/pexels-laura-james-6098064.png  \n",
            "  inflating: masks/pexels-laura-james-6098067.png  \n",
            "  inflating: masks/pexels-laura-james-6098068.png  \n",
            "  inflating: masks/pexels-laura-james-6098069.png  \n",
            "  inflating: masks/pexels-laura-james-6098070.png  \n",
            "  inflating: masks/pexels-laura-james-6098071.png  \n",
            "  inflating: masks/pexels-laura-james-6098072.png  \n",
            "  inflating: masks/pexels-laura-james-6098073.png  \n",
            "  inflating: masks/pexels-lisa-fotios-6140873.png  \n",
            "  inflating: masks/pexels-lucian-potlog-3991782.png  \n",
            "  inflating: masks/pexels-maksim-goncharenok-4662960.png  \n",
            "  inflating: masks/pexels-marcelo-chagas-4565420.png  \n",
            "  inflating: masks/pexels-min-an-1165655.png  \n",
            "  inflating: masks/pexels-nandhu-kumar-3991311.png  \n",
            "  inflating: masks/pexels-natasha-lois-5070755.png  \n",
            "  inflating: masks/pexels-norma-mortenson-4393254.png  \n",
            "  inflating: masks/pexels-norma-mortenson-4393429.png  \n",
            "  inflating: masks/pexels-nothing-ahead-3571628.png  \n",
            "  inflating: masks/pexels-oleg-magni-4058869.png  \n",
            "  inflating: masks/pexels-oleg-magni-4058871.png  \n",
            "  inflating: masks/pexels-oleg-magni-4058872.png  \n",
            "  inflating: masks/pexels-ono-kosuki-5999784.png  \n",
            "  inflating: masks/pexels-ono-kosuki-5999789.png  \n",
            "  inflating: masks/pexels-ono-kosuki-5999796.png  \n",
            "  inflating: masks/pexels-ono-kosuki-5999938.png  \n",
            "  inflating: masks/pexels-ono-kosuki-5999940.png  \n",
            "  inflating: masks/pexels-ono-kosuki-5999945.png  \n",
            "  inflating: masks/pexels-pixabay-209271.png  \n",
            "  inflating: masks/pexels-rfstudio-4177563.png  \n",
            "  inflating: masks/pexels-rfstudio-4177606.png  \n",
            "  inflating: masks/pexels-rfstudio-4177640.png  \n",
            "  inflating: masks/pexels-rfstudio-4177650.png  \n",
            "  inflating: masks/pexels-rfstudio-4177657.png  \n",
            "  inflating: masks/pexels-samson-katt-5225252.png  \n",
            "  inflating: masks/pexels-sora-shimazaki-5938383.png  \n",
            "  inflating: masks/pexels-sora-shimazaki-5938384.png  \n",
            "  inflating: masks/pexels-sora-shimazaki-5938389.png  \n",
            "  inflating: masks/pexels-sora-shimazaki-5938616.png  \n",
            "  inflating: masks/pexels-sora-shimazaki-5938619.png  \n",
            "  inflating: masks/pexels-sora-shimazaki-5938621.png  \n",
            "  inflating: masks/pexels-sunyu-kim-2001768.png  \n",
            "  inflating: masks/pexels-thirdman-5327585.png  \n",
            "  inflating: masks/pexels-thirdman-5327589.png  \n",
            "  inflating: masks/pexels-thirdman-5327872.png  \n",
            "  inflating: masks/pexels-thirdman-5684642.png  \n",
            "  inflating: masks/pexels-thirdman-5961414.png  \n",
            "  inflating: masks/pexels-tima-miroshnichenko-5951644.png  \n",
            "  inflating: masks/pexels-tima-miroshnichenko-6826787.png  \n",
            "  inflating: masks/pexels-wendy-wei-4118828.png  \n",
            "  inflating: masks/pexels-yogendra-singh-4037279.png  \n",
            "  inflating: masks/pexels-zichuan-han-3941299.png  \n",
            "  inflating: masks/pexels-╨┐╨░╨▓╨╡╨╗-╤Б╨╛╤А╨╛╨║╨╕╨╜-2324837.png  \n",
            "  inflating: masks/student-5520411_1920.png  \n",
            "  inflating: masks/student-5982704_1920.png  \n",
            "  inflating: masks/teacher-5560962_1920.png  \n",
            "  inflating: masks/woman-5951721_1920.png  \n"
          ]
        }
      ],
      "source": [
        "!curl -L -o qw.zip https://www.kaggle.com/api/v1/datasets/download/perke986/face-mask-segmentation-dataset\n",
        "!unzip qw.zip"
      ]
    },
    {
      "cell_type": "markdown",
      "source": [
        "Загрука данных"
      ],
      "metadata": {
        "id": "vjR_6mlZUnzf"
      }
    },
    {
      "cell_type": "code",
      "execution_count": 12,
      "metadata": {
        "id": "ekX1jw7er5f2"
      },
      "outputs": [],
      "source": [
        "import os\n",
        "import torch\n",
        "from torch.utils.data import Dataset, DataLoader\n",
        "from PIL import Image\n",
        "import numpy as np\n",
        "import albumentations as A\n",
        "from albumentations.pytorch import ToTensorV2\n",
        "from segmentation_models_pytorch import Unet, Segformer\n",
        "from torch.optim import Adam\n",
        "from torch.nn import CrossEntropyLoss\n",
        "from tqdm import tqdm\n",
        "import cv2\n",
        "\n",
        "class FaceMaskDataset(Dataset):\n",
        "    def __init__(self, images_dir, masks_dir, transform=None):\n",
        "        self.images_dir = images_dir\n",
        "        self.masks_dir = masks_dir\n",
        "        self.transform = transform\n",
        "\n",
        "        image_files = os.listdir(images_dir)\n",
        "        self.image_names = [f for f in image_files if os.path.isfile(os.path.join(masks_dir, os.path.splitext(f)[0] + \".png\"))]\n",
        "\n",
        "    def __len__(self):\n",
        "        return len(self.image_names)\n",
        "\n",
        "    def __getitem__(self, idx):\n",
        "        img_name = self.image_names[idx]\n",
        "        base_name = os.path.splitext(img_name)[0]\n",
        "\n",
        "        img_path = os.path.join(self.images_dir, img_name)\n",
        "        mask_path = os.path.join(self.masks_dir, base_name + \".png\")\n",
        "\n",
        "        image = np.array(Image.open(img_path).convert(\"RGB\"))\n",
        "        mask = mask_rgb_to_class(Image.open(mask_path).convert(\"RGB\"))\n",
        "\n",
        "        if self.transform:\n",
        "            augmented = self.transform(image=image, mask=mask)\n",
        "            image = augmented['image']\n",
        "            mask = augmented['mask']\n",
        "\n",
        "        return image, mask.long()\n",
        "\n",
        "def mask_rgb_to_class(mask):\n",
        "    mask_array = np.array(mask)\n",
        "    class_mask = np.zeros(mask_array.shape[:2], dtype=np.uint8)\n",
        "\n",
        "    for rgb, class_idx in MASK_COLORS.items():\n",
        "        matches = np.all(mask_array == rgb, axis=-1)\n",
        "        class_mask[matches] = class_idx\n",
        "    return class_mask"
      ]
    },
    {
      "cell_type": "markdown",
      "source": [
        "Аугментация данных"
      ],
      "metadata": {
        "id": "_Ia9QXIkUqM1"
      }
    },
    {
      "cell_type": "code",
      "execution_count": 7,
      "metadata": {
        "id": "zFEKrJ_VrnIY"
      },
      "outputs": [],
      "source": [
        "DEVICE = \"cuda\" if torch.cuda.is_available() else \"cpu\"\n",
        "BATCH_SIZE = 4\n",
        "EPOCHS = 5\n",
        "NUM_CLASSES = 2\n",
        "LEARNING_RATE = 1e-4\n",
        "IMAGE_SIZE = (224, 224)\n",
        "\n",
        "MASK_COLORS = {\n",
        "    (255, 255, 255): 1,\n",
        "    (253, 237, 237): 1,\n",
        "    (252, 219, 219): 1,\n",
        "}\n",
        "train_transform = A.Compose([\n",
        "    A.Resize(*IMAGE_SIZE),\n",
        "    A.HorizontalFlip(),\n",
        "    A.Normalize(mean=(0.485, 0.456, 0.406), std=(0.229, 0.224, 0.225)),\n",
        "    ToTensorV2()\n",
        "])\n",
        "\n",
        "val_transform = A.Compose([\n",
        "    A.Resize(*IMAGE_SIZE),\n",
        "    A.Normalize(mean=(0.485, 0.456, 0.406), std=(0.229, 0.224, 0.225)),\n",
        "    ToTensorV2()\n",
        "])\n"
      ]
    },
    {
      "cell_type": "markdown",
      "source": [
        "Загрузка встроенных моделей"
      ],
      "metadata": {
        "id": "8bOd6JxAU0Vo"
      }
    },
    {
      "cell_type": "code",
      "execution_count": 8,
      "metadata": {
        "id": "TdnRfD3MrrJs",
        "colab": {
          "base_uri": "https://localhost:8080/"
        },
        "outputId": "51865b18-22f6-4d59-eaf3-6d27d2b64e6a"
      },
      "outputs": [
        {
          "output_type": "stream",
          "name": "stderr",
          "text": [
            "/usr/local/lib/python3.11/dist-packages/huggingface_hub/utils/_auth.py:94: UserWarning: \n",
            "The secret `HF_TOKEN` does not exist in your Colab secrets.\n",
            "To authenticate with the Hugging Face Hub, create a token in your settings tab (https://huggingface.co/settings/tokens), set it as secret in your Google Colab and restart your session.\n",
            "You will be able to reuse this secret in all of your notebooks.\n",
            "Please note that authentication is recommended but still optional to access public models or datasets.\n",
            "  warnings.warn(\n"
          ]
        }
      ],
      "source": [
        "dataset = FaceMaskDataset(\"images\", \"masks\", transform=train_transform)\n",
        "val_size = int(0.2 * len(dataset))\n",
        "train_size = len(dataset) - val_size\n",
        "train_dataset, val_dataset = torch.utils.data.random_split(dataset, [train_size, val_size])\n",
        "\n",
        "val_dataset.dataset.transform = val_transform\n",
        "\n",
        "train_loader = DataLoader(train_dataset, batch_size=BATCH_SIZE, shuffle=True)\n",
        "val_loader = DataLoader(val_dataset, batch_size=BATCH_SIZE)\n",
        "\n",
        "unet_model = Unet(\n",
        "    encoder_name=\"resnet34\",\n",
        "    encoder_weights=\"imagenet\",\n",
        "    classes=NUM_CLASSES,\n",
        "    activation=None\n",
        ").to(DEVICE)\n",
        "\n",
        "segformer_model = Segformer(\n",
        "    encoder_name=\"mit_b0\",\n",
        "    encoder_weights=\"imagenet\",\n",
        "    in_channels=3,\n",
        "    classes=NUM_CLASSES,\n",
        "    activation=None\n",
        ").to(DEVICE)"
      ]
    },
    {
      "cell_type": "markdown",
      "source": [
        "Функция тренировки и оценки"
      ],
      "metadata": {
        "id": "sKy8gMViU4aO"
      }
    },
    {
      "cell_type": "code",
      "execution_count": 9,
      "metadata": {
        "id": "fBiDDRWbsGHY"
      },
      "outputs": [],
      "source": [
        "def train_epoch(model, loader, loss_fn, optimizer):\n",
        "    model.train()\n",
        "    running_loss = 0.0\n",
        "    for images, masks in tqdm(loader, desc=\"Training\"):\n",
        "        images = images.to(DEVICE)\n",
        "        masks = masks.to(DEVICE)\n",
        "\n",
        "        outputs = model(images)\n",
        "        loss = loss_fn(outputs, masks)\n",
        "\n",
        "        optimizer.zero_grad()\n",
        "        loss.backward()\n",
        "        optimizer.step()\n",
        "\n",
        "        running_loss += loss.item()\n",
        "    return running_loss / len(loader)\n",
        "\n",
        "def evaluate(model, loader):\n",
        "    model.eval()\n",
        "    ious = []\n",
        "    dices = []\n",
        "    with torch.no_grad():\n",
        "        for images, masks in tqdm(loader, desc=\"Evaluation\"):\n",
        "            images = images.to(DEVICE)\n",
        "            masks = masks.to(DEVICE)\n",
        "\n",
        "            outputs = model(images)\n",
        "            preds = torch.argmax(outputs, dim=1)\n",
        "\n",
        "            intersection = (preds & masks).float().sum((1,2))\n",
        "            union = (preds | masks).float().sum((1,2))\n",
        "            iou = (intersection + 1e-6) / (union + 1e-6)\n",
        "            ious.append(iou.cpu().numpy())\n",
        "\n",
        "            dice = (2*intersection + 1e-6) / (preds.sum((1,2)) + masks.sum((1,2)) + 1e-6)\n",
        "            dices.append(dice.cpu().numpy())\n",
        "\n",
        "    return np.mean(np.concatenate(ious)), np.mean(np.concatenate(dices))\n"
      ]
    },
    {
      "cell_type": "markdown",
      "source": [
        "Тренировка моделей"
      ],
      "metadata": {
        "id": "Xo5OuXgBU7l_"
      }
    },
    {
      "cell_type": "code",
      "execution_count": 10,
      "metadata": {
        "id": "AkVv1QwAnBbU",
        "colab": {
          "base_uri": "https://localhost:8080/"
        },
        "outputId": "2f09eb82-43c9-4c9a-d6f7-6df004462990"
      },
      "outputs": [
        {
          "output_type": "stream",
          "name": "stdout",
          "text": [
            "UNet Epoch 1/5\n"
          ]
        },
        {
          "output_type": "stream",
          "name": "stderr",
          "text": [
            "Training: 100%|██████████| 45/45 [01:04<00:00,  1.44s/it]\n",
            "Evaluation: 100%|██████████| 11/11 [00:14<00:00,  1.28s/it]\n"
          ]
        },
        {
          "output_type": "stream",
          "name": "stdout",
          "text": [
            "Loss: 0.3494, IoU: 0.2047, Dice: 0.2917\n",
            "UNet Epoch 2/5\n"
          ]
        },
        {
          "output_type": "stream",
          "name": "stderr",
          "text": [
            "Training: 100%|██████████| 45/45 [00:59<00:00,  1.33s/it]\n",
            "Evaluation: 100%|██████████| 11/11 [00:13<00:00,  1.24s/it]\n"
          ]
        },
        {
          "output_type": "stream",
          "name": "stdout",
          "text": [
            "Loss: 0.1684, IoU: 0.3868, Dice: 0.4875\n",
            "UNet Epoch 3/5\n"
          ]
        },
        {
          "output_type": "stream",
          "name": "stderr",
          "text": [
            "Training: 100%|██████████| 45/45 [00:59<00:00,  1.33s/it]\n",
            "Evaluation: 100%|██████████| 11/11 [00:13<00:00,  1.25s/it]\n"
          ]
        },
        {
          "output_type": "stream",
          "name": "stdout",
          "text": [
            "Loss: 0.1039, IoU: 0.5139, Dice: 0.6261\n",
            "UNet Epoch 4/5\n"
          ]
        },
        {
          "output_type": "stream",
          "name": "stderr",
          "text": [
            "Training: 100%|██████████| 45/45 [01:00<00:00,  1.33s/it]\n",
            "Evaluation: 100%|██████████| 11/11 [00:14<00:00,  1.30s/it]\n"
          ]
        },
        {
          "output_type": "stream",
          "name": "stdout",
          "text": [
            "Loss: 0.0743, IoU: 0.5909, Dice: 0.6937\n",
            "UNet Epoch 5/5\n"
          ]
        },
        {
          "output_type": "stream",
          "name": "stderr",
          "text": [
            "Training: 100%|██████████| 45/45 [00:59<00:00,  1.32s/it]\n",
            "Evaluation: 100%|██████████| 11/11 [00:14<00:00,  1.33s/it]\n"
          ]
        },
        {
          "output_type": "stream",
          "name": "stdout",
          "text": [
            "Loss: 0.0582, IoU: 0.6172, Dice: 0.7191\n",
            "SegFormer Epoch 1/5\n"
          ]
        },
        {
          "output_type": "stream",
          "name": "stderr",
          "text": [
            "Training: 100%|██████████| 45/45 [00:58<00:00,  1.30s/it]\n",
            "Evaluation: 100%|██████████| 11/11 [00:13<00:00,  1.24s/it]\n"
          ]
        },
        {
          "output_type": "stream",
          "name": "stdout",
          "text": [
            "Loss: 0.3072, IoU: 0.2545, Dice: 0.3304\n",
            "SegFormer Epoch 2/5\n"
          ]
        },
        {
          "output_type": "stream",
          "name": "stderr",
          "text": [
            "Training: 100%|██████████| 45/45 [00:58<00:00,  1.31s/it]\n",
            "Evaluation: 100%|██████████| 11/11 [00:13<00:00,  1.24s/it]\n"
          ]
        },
        {
          "output_type": "stream",
          "name": "stdout",
          "text": [
            "Loss: 0.1329, IoU: 0.3487, Dice: 0.4297\n",
            "SegFormer Epoch 3/5\n"
          ]
        },
        {
          "output_type": "stream",
          "name": "stderr",
          "text": [
            "Training: 100%|██████████| 45/45 [00:58<00:00,  1.31s/it]\n",
            "Evaluation: 100%|██████████| 11/11 [00:13<00:00,  1.27s/it]\n"
          ]
        },
        {
          "output_type": "stream",
          "name": "stdout",
          "text": [
            "Loss: 0.0782, IoU: 0.4772, Dice: 0.5790\n",
            "SegFormer Epoch 4/5\n"
          ]
        },
        {
          "output_type": "stream",
          "name": "stderr",
          "text": [
            "Training: 100%|██████████| 45/45 [00:59<00:00,  1.32s/it]\n",
            "Evaluation: 100%|██████████| 11/11 [00:13<00:00,  1.26s/it]\n"
          ]
        },
        {
          "output_type": "stream",
          "name": "stdout",
          "text": [
            "Loss: 0.0552, IoU: 0.5555, Dice: 0.6553\n",
            "SegFormer Epoch 5/5\n"
          ]
        },
        {
          "output_type": "stream",
          "name": "stderr",
          "text": [
            "Training: 100%|██████████| 45/45 [00:58<00:00,  1.31s/it]\n",
            "Evaluation: 100%|██████████| 11/11 [00:14<00:00,  1.31s/it]\n"
          ]
        },
        {
          "output_type": "stream",
          "name": "stdout",
          "text": [
            "Loss: 0.0417, IoU: 0.5866, Dice: 0.6836\n",
            "Evaluation:\n"
          ]
        },
        {
          "output_type": "stream",
          "name": "stderr",
          "text": [
            "Evaluation: 100%|██████████| 11/11 [00:13<00:00,  1.26s/it]\n"
          ]
        },
        {
          "output_type": "stream",
          "name": "stdout",
          "text": [
            "UNet: IoU=0.6172, Dice=0.7191\n"
          ]
        },
        {
          "output_type": "stream",
          "name": "stderr",
          "text": [
            "Evaluation: 100%|██████████| 11/11 [00:13<00:00,  1.25s/it]"
          ]
        },
        {
          "output_type": "stream",
          "name": "stdout",
          "text": [
            "SegFormer: IoU=0.5866, Dice=0.6836\n"
          ]
        },
        {
          "output_type": "stream",
          "name": "stderr",
          "text": [
            "\n"
          ]
        }
      ],
      "source": [
        "optimizer = Adam(unet_model.parameters(), lr=LEARNING_RATE)\n",
        "loss_fn = CrossEntropyLoss()\n",
        "\n",
        "for epoch in range(EPOCHS):\n",
        "    print(f\"UNet Epoch {epoch+1}/{EPOCHS}\")\n",
        "    train_loss = train_epoch(unet_model, train_loader, loss_fn, optimizer)\n",
        "    iou, dice = evaluate(unet_model, val_loader)\n",
        "    print(f\"Loss: {train_loss:.4f}, IoU: {iou:.4f}, Dice: {dice:.4f}\")\n",
        "\n",
        "optimizer = Adam(segformer_model.parameters(), lr=LEARNING_RATE)\n",
        "for epoch in range(EPOCHS):\n",
        "    print(f\"SegFormer Epoch {epoch+1}/{EPOCHS}\")\n",
        "    train_loss = train_epoch(segformer_model, train_loader, loss_fn, optimizer)\n",
        "    iou, dice = evaluate(segformer_model, val_loader)\n",
        "    print(f\"Loss: {train_loss:.4f}, IoU: {iou:.4f}, Dice: {dice:.4f}\")\n",
        "\n",
        "print(\"Evaluation:\")\n",
        "for model_name, model in [(\"UNet\", unet_model), (\"SegFormer\", segformer_model)]:\n",
        "    iou, dice = evaluate(model, val_loader)\n",
        "    print(f\"{model_name}: IoU={iou:.4f}, Dice={dice:.4f}\")\n"
      ]
    },
    {
      "cell_type": "markdown",
      "source": [
        "Улучшение бейзлайна"
      ],
      "metadata": {
        "id": "vaTxVnzhU-La"
      }
    },
    {
      "cell_type": "code",
      "execution_count": 13,
      "metadata": {
        "id": "rGDetlnlsS8q",
        "colab": {
          "base_uri": "https://localhost:8080/"
        },
        "outputId": "62383f13-43f9-4f63-fa3b-99bc2690a4e3"
      },
      "outputs": [
        {
          "output_type": "stream",
          "name": "stdout",
          "text": [
            "UNet Epoch 1/5\n"
          ]
        },
        {
          "output_type": "stream",
          "name": "stderr",
          "text": [
            "Training: 100%|██████████| 45/45 [01:00<00:00,  1.35s/it]\n",
            "Evaluation: 100%|██████████| 11/11 [00:13<00:00,  1.26s/it]\n"
          ]
        },
        {
          "output_type": "stream",
          "name": "stdout",
          "text": [
            "Loss: 0.0429, IoU: 0.6349, Dice: 0.7369\n",
            "UNet Epoch 2/5\n"
          ]
        },
        {
          "output_type": "stream",
          "name": "stderr",
          "text": [
            "Training: 100%|██████████| 45/45 [01:05<00:00,  1.45s/it]\n",
            "Evaluation: 100%|██████████| 11/11 [00:16<00:00,  1.52s/it]\n"
          ]
        },
        {
          "output_type": "stream",
          "name": "stdout",
          "text": [
            "Loss: 0.0342, IoU: 0.6917, Dice: 0.7831\n",
            "UNet Epoch 3/5\n"
          ]
        },
        {
          "output_type": "stream",
          "name": "stderr",
          "text": [
            "Training: 100%|██████████| 45/45 [01:05<00:00,  1.46s/it]\n",
            "Evaluation: 100%|██████████| 11/11 [00:13<00:00,  1.26s/it]\n"
          ]
        },
        {
          "output_type": "stream",
          "name": "stdout",
          "text": [
            "Loss: 0.0235, IoU: 0.7480, Dice: 0.8229\n",
            "UNet Epoch 4/5\n"
          ]
        },
        {
          "output_type": "stream",
          "name": "stderr",
          "text": [
            "Training: 100%|██████████| 45/45 [01:00<00:00,  1.35s/it]\n",
            "Evaluation: 100%|██████████| 11/11 [00:14<00:00,  1.32s/it]\n"
          ]
        },
        {
          "output_type": "stream",
          "name": "stdout",
          "text": [
            "Loss: 0.0171, IoU: 0.7770, Dice: 0.8437\n",
            "UNet Epoch 5/5\n"
          ]
        },
        {
          "output_type": "stream",
          "name": "stderr",
          "text": [
            "Training: 100%|██████████| 45/45 [01:01<00:00,  1.36s/it]\n",
            "Evaluation: 100%|██████████| 11/11 [00:13<00:00,  1.27s/it]\n"
          ]
        },
        {
          "output_type": "stream",
          "name": "stdout",
          "text": [
            "Loss: 0.0136, IoU: 0.7746, Dice: 0.8432\n",
            "SegFormer Epoch 1/5\n"
          ]
        },
        {
          "output_type": "stream",
          "name": "stderr",
          "text": [
            "Training: 100%|██████████| 45/45 [00:59<00:00,  1.32s/it]\n",
            "Evaluation: 100%|██████████| 11/11 [00:13<00:00,  1.26s/it]\n"
          ]
        },
        {
          "output_type": "stream",
          "name": "stdout",
          "text": [
            "Loss: 0.0342, IoU: 0.6011, Dice: 0.7016\n",
            "SegFormer Epoch 2/5\n"
          ]
        },
        {
          "output_type": "stream",
          "name": "stderr",
          "text": [
            "Training: 100%|██████████| 45/45 [00:58<00:00,  1.30s/it]\n",
            "Evaluation: 100%|██████████| 11/11 [00:14<00:00,  1.31s/it]\n"
          ]
        },
        {
          "output_type": "stream",
          "name": "stdout",
          "text": [
            "Loss: 0.0228, IoU: 0.6002, Dice: 0.6952\n",
            "SegFormer Epoch 3/5\n"
          ]
        },
        {
          "output_type": "stream",
          "name": "stderr",
          "text": [
            "Training: 100%|██████████| 45/45 [00:58<00:00,  1.30s/it]\n",
            "Evaluation: 100%|██████████| 11/11 [00:15<00:00,  1.41s/it]\n"
          ]
        },
        {
          "output_type": "stream",
          "name": "stdout",
          "text": [
            "Loss: 0.0177, IoU: 0.6771, Dice: 0.7749\n",
            "SegFormer Epoch 4/5\n"
          ]
        },
        {
          "output_type": "stream",
          "name": "stderr",
          "text": [
            "Training: 100%|██████████| 45/45 [01:02<00:00,  1.39s/it]\n",
            "Evaluation: 100%|██████████| 11/11 [00:14<00:00,  1.32s/it]\n"
          ]
        },
        {
          "output_type": "stream",
          "name": "stdout",
          "text": [
            "Loss: 0.0140, IoU: 0.6536, Dice: 0.7525\n",
            "SegFormer Epoch 5/5\n"
          ]
        },
        {
          "output_type": "stream",
          "name": "stderr",
          "text": [
            "Training: 100%|██████████| 45/45 [00:58<00:00,  1.30s/it]\n",
            "Evaluation: 100%|██████████| 11/11 [00:14<00:00,  1.28s/it]\n"
          ]
        },
        {
          "output_type": "stream",
          "name": "stdout",
          "text": [
            "Loss: 0.0126, IoU: 0.6996, Dice: 0.7916\n",
            "Evaluation:\n"
          ]
        },
        {
          "output_type": "stream",
          "name": "stderr",
          "text": [
            "Evaluation: 100%|██████████| 11/11 [00:14<00:00,  1.33s/it]\n"
          ]
        },
        {
          "output_type": "stream",
          "name": "stdout",
          "text": [
            "UNet: IoU=0.7746, Dice=0.8432\n"
          ]
        },
        {
          "output_type": "stream",
          "name": "stderr",
          "text": [
            "Evaluation: 100%|██████████| 11/11 [00:14<00:00,  1.29s/it]"
          ]
        },
        {
          "output_type": "stream",
          "name": "stdout",
          "text": [
            "SegFormer: IoU=0.6996, Dice=0.7916\n"
          ]
        },
        {
          "output_type": "stream",
          "name": "stderr",
          "text": [
            "\n"
          ]
        }
      ],
      "source": [
        "import albumentations as A\n",
        "from albumentations.pytorch import ToTensorV2\n",
        "\n",
        "IMG_SIZE = 256\n",
        "\n",
        "train_transform = A.Compose([\n",
        "    A.Resize(IMG_SIZE, IMG_SIZE),\n",
        "    A.HorizontalFlip(p=0.5),\n",
        "    A.ShiftScaleRotate(shift_limit=0.1, scale_limit=0.1, rotate_limit=30, p=0.5),\n",
        "    A.RandomBrightnessContrast(p=0.5),\n",
        "    A.ElasticTransform(0.5),\n",
        "    A.ElasticTransform(p=0.2),\n",
        "    A.Normalize(),\n",
        "    ToTensorV2(),\n",
        "])\n",
        "\n",
        "val_transform = A.Compose([\n",
        "    A.Resize(IMG_SIZE, IMG_SIZE),\n",
        "    A.Normalize(),\n",
        "    ToTensorV2(),\n",
        "])\n",
        "\n",
        "\n",
        "\n",
        "optimizer = Adam(unet_model.parameters(), lr=LEARNING_RATE)\n",
        "loss = CrossEntropyLoss()\n",
        "\n",
        "\n",
        "for epoch in range(EPOCHS):\n",
        "    print(f\"UNet Epoch {epoch+1}/{EPOCHS}\")\n",
        "    train_loss = train_epoch(unet_model, train_loader, loss_fn, optimizer)\n",
        "    iou, dice = evaluate(unet_model, val_loader)\n",
        "    print(f\"Loss: {train_loss:.4f}, IoU: {iou:.4f}, Dice: {dice:.4f}\")\n",
        "\n",
        "optimizer = Adam(segformer_model.parameters(), lr=LEARNING_RATE)\n",
        "for epoch in range(EPOCHS):\n",
        "    print(f\"SegFormer Epoch {epoch+1}/{EPOCHS}\")\n",
        "    train_loss = train_epoch(segformer_model, train_loader, loss_fn, optimizer)\n",
        "    iou, dice = evaluate(segformer_model, val_loader)\n",
        "    print(f\"Loss: {train_loss:.4f}, IoU: {iou:.4f}, Dice: {dice:.4f}\")\n",
        "\n",
        "print(\"Evaluation:\")\n",
        "for model_name, model in [(\"UNet\", unet_model), (\"SegFormer\", segformer_model)]:\n",
        "    iou, dice = evaluate(model, val_loader)\n",
        "    print(f\"{model_name}: IoU={iou:.4f}, Dice={dice:.4f}\")\n"
      ]
    },
    {
      "cell_type": "markdown",
      "source": [
        "Собственная имплементация"
      ],
      "metadata": {
        "id": "qRrtCV5OVEME"
      }
    },
    {
      "cell_type": "code",
      "source": [
        "import torch\n",
        "import torch.nn as nn\n",
        "import torch.nn.functional as F\n",
        "\n",
        "class DoubleConv(nn.Module):\n",
        "    def __init__(self, in_channels, out_channels):\n",
        "        super().__init__()\n",
        "        self.double_conv = nn.Sequential(\n",
        "            nn.Conv2d(in_channels, out_channels, 3, padding=1),\n",
        "            nn.BatchNorm2d(out_channels),\n",
        "            nn.ReLU(inplace=True),\n",
        "            nn.Conv2d(out_channels, out_channels, 3, padding=1),\n",
        "            nn.BatchNorm2d(out_channels),\n",
        "            nn.ReLU(inplace=True)\n",
        "        )\n",
        "\n",
        "    def forward(self, x):\n",
        "        return self.double_conv(x)\n",
        "\n",
        "class MyUNet(nn.Module):\n",
        "    def __init__(self, in_channels=3, num_classes=2, features=[64, 128, 256, 512]):\n",
        "        super().__init__()\n",
        "        self.downs = nn.ModuleList()\n",
        "        self.ups = nn.ModuleList()\n",
        "\n",
        "        for feature in features:\n",
        "            self.downs.append(DoubleConv(in_channels, feature))\n",
        "            in_channels = feature\n",
        "\n",
        "        for feature in reversed(features):\n",
        "            self.ups.append(nn.ConvTranspose2d(feature*2, feature, kernel_size=2, stride=2))\n",
        "            self.ups.append(DoubleConv(feature*2, feature))\n",
        "\n",
        "        self.bottleneck = DoubleConv(features[-1], features[-1]*2)\n",
        "        self.final_conv = nn.Conv2d(features[0], num_classes, kernel_size=1)\n",
        "\n",
        "        self.pool = nn.MaxPool2d(kernel_size=2, stride=2)\n",
        "\n",
        "    def forward(self, x):\n",
        "        skip_connections = []\n",
        "        for down in self.downs:\n",
        "            x = down(x)\n",
        "            skip_connections.append(x)\n",
        "            x = self.pool(x)\n",
        "\n",
        "        x = self.bottleneck(x)\n",
        "        skip_connections = skip_connections[::-1]\n",
        "\n",
        "        for idx in range(0, len(self.ups), 2):\n",
        "            x = self.ups[idx](x)\n",
        "            skip_connection = skip_connections[idx//2]\n",
        "            if x.shape != skip_connection.shape:\n",
        "                x = F.interpolate(x, size=skip_connection.shape[2:])\n",
        "            x = torch.cat((skip_connection, x), dim=1)\n",
        "            x = self.ups[idx+1](x)\n",
        "\n",
        "        return self.final_conv(x)\n"
      ],
      "metadata": {
        "id": "4rqxrOQP7t3N"
      },
      "execution_count": 29,
      "outputs": []
    },
    {
      "cell_type": "code",
      "source": [
        "class MySegformer(nn.Module):\n",
        "    def __init__(self, in_channels=3, num_classes=2):\n",
        "        super().__init__()\n",
        "        self.encoder = nn.Sequential(\n",
        "            nn.Conv2d(in_channels, 64, kernel_size=7, stride=2, padding=3),\n",
        "            nn.BatchNorm2d(64),\n",
        "            nn.ReLU(inplace=True),\n",
        "            nn.MaxPool2d(kernel_size=2, stride=2)\n",
        "        )\n",
        "        self.decoder = nn.Sequential(\n",
        "            nn.ConvTranspose2d(64, 32, kernel_size=2, stride=2),\n",
        "            nn.ReLU(inplace=True),\n",
        "            nn.ConvTranspose2d(32, 16, kernel_size=2, stride=2),\n",
        "            nn.ReLU(inplace=True),\n",
        "            nn.Conv2d(16, num_classes, kernel_size=1)\n",
        "        )\n",
        "\n",
        "    def forward(self, x):\n",
        "        x = self.encoder(x)\n",
        "        x = self.decoder(x)\n",
        "        return x\n"
      ],
      "metadata": {
        "id": "sI056MacGGXz"
      },
      "execution_count": 30,
      "outputs": []
    },
    {
      "cell_type": "code",
      "source": [
        "unet_model = MyUNet(in_channels=3, num_classes=NUM_CLASSES).to(DEVICE)\n",
        "segformer_model = MySegformer(in_channels=3, num_classes=NUM_CLASSES).to(DEVICE)\n",
        "optimizer = Adam(segformer_model.parameters(), lr=LEARNING_RATE)\n",
        "\n",
        "for epoch in range(EPOCHS):\n",
        "    print(f\"UNet Epoch {epoch+1}/{EPOCHS}\")\n",
        "    train_loss = train_epoch(unet_model, train_loader, loss_fn, optimizer)\n",
        "    iou, dice = evaluate(unet_model, val_loader)\n",
        "    print(f\"Loss: {train_loss:.4f}, IoU: {iou:.4f}, Dice: {dice:.4f}\")\n",
        "\n",
        "for epoch in range(EPOCHS):\n",
        "    print(f\"SegFormer Epoch {epoch+1}/{EPOCHS}\")\n",
        "    train_loss = train_epoch(segformer_model, train_loader, loss_fn, optimizer)\n",
        "    iou, dice = evaluate(segformer_model, val_loader)\n",
        "    print(f\"Loss: {train_loss:.4f}, IoU: {iou:.4f}, Dice: {dice:.4f}\")\n",
        "\n",
        "print(\"Evaluation:\")\n",
        "for model_name, model in [(\"UNet\", unet_model), (\"SegFormer\", segformer_model)]:\n",
        "    iou, dice = evaluate(model, val_loader)\n",
        "    print(f\"{model_name}: IoU={iou:.4f}, Dice={dice:.4f}\")"
      ],
      "metadata": {
        "colab": {
          "base_uri": "https://localhost:8080/"
        },
        "id": "OxMFlfptGJaA",
        "outputId": "ddd80213-6b64-4281-f4e0-17618d4410d9"
      },
      "execution_count": 31,
      "outputs": [
        {
          "output_type": "stream",
          "name": "stdout",
          "text": [
            "UNet Epoch 1/5\n"
          ]
        },
        {
          "output_type": "stream",
          "name": "stderr",
          "text": [
            "Training: 100%|██████████| 45/45 [01:05<00:00,  1.45s/it]\n",
            "Evaluation: 100%|██████████| 11/11 [00:15<00:00,  1.37s/it]\n"
          ]
        },
        {
          "output_type": "stream",
          "name": "stdout",
          "text": [
            "Loss: 0.5837, IoU: 0.0370, Dice: 0.0679\n",
            "UNet Epoch 2/5\n"
          ]
        },
        {
          "output_type": "stream",
          "name": "stderr",
          "text": [
            "Training: 100%|██████████| 45/45 [01:03<00:00,  1.41s/it]\n",
            "Evaluation: 100%|██████████| 11/11 [00:14<00:00,  1.29s/it]\n"
          ]
        },
        {
          "output_type": "stream",
          "name": "stdout",
          "text": [
            "Loss: 0.5848, IoU: 0.0331, Dice: 0.0615\n",
            "UNet Epoch 3/5\n"
          ]
        },
        {
          "output_type": "stream",
          "name": "stderr",
          "text": [
            "Training: 100%|██████████| 45/45 [01:03<00:00,  1.42s/it]\n",
            "Evaluation: 100%|██████████| 11/11 [00:14<00:00,  1.29s/it]\n"
          ]
        },
        {
          "output_type": "stream",
          "name": "stdout",
          "text": [
            "Loss: 0.5838, IoU: 0.0329, Dice: 0.0613\n",
            "UNet Epoch 4/5\n"
          ]
        },
        {
          "output_type": "stream",
          "name": "stderr",
          "text": [
            "Training: 100%|██████████| 45/45 [01:03<00:00,  1.41s/it]\n",
            "Evaluation: 100%|██████████| 11/11 [00:14<00:00,  1.30s/it]\n"
          ]
        },
        {
          "output_type": "stream",
          "name": "stdout",
          "text": [
            "Loss: 0.5841, IoU: 0.0339, Dice: 0.0629\n",
            "UNet Epoch 5/5\n"
          ]
        },
        {
          "output_type": "stream",
          "name": "stderr",
          "text": [
            "Training: 100%|██████████| 45/45 [01:04<00:00,  1.44s/it]\n",
            "Evaluation: 100%|██████████| 11/11 [00:14<00:00,  1.34s/it]\n"
          ]
        },
        {
          "output_type": "stream",
          "name": "stdout",
          "text": [
            "Loss: 0.5834, IoU: 0.0335, Dice: 0.0622\n",
            "SegFormer Epoch 1/5\n"
          ]
        },
        {
          "output_type": "stream",
          "name": "stderr",
          "text": [
            "Training: 100%|██████████| 45/45 [00:56<00:00,  1.25s/it]\n",
            "Evaluation: 100%|██████████| 11/11 [00:13<00:00,  1.24s/it]\n"
          ]
        },
        {
          "output_type": "stream",
          "name": "stdout",
          "text": [
            "Loss: 0.6565, IoU: 0.0017, Dice: 0.0033\n",
            "SegFormer Epoch 2/5\n"
          ]
        },
        {
          "output_type": "stream",
          "name": "stderr",
          "text": [
            "Training: 100%|██████████| 45/45 [00:57<00:00,  1.27s/it]\n",
            "Evaluation: 100%|██████████| 11/11 [00:13<00:00,  1.23s/it]\n"
          ]
        },
        {
          "output_type": "stream",
          "name": "stdout",
          "text": [
            "Loss: 0.5899, IoU: 0.0000, Dice: 0.0000\n",
            "SegFormer Epoch 3/5\n"
          ]
        },
        {
          "output_type": "stream",
          "name": "stderr",
          "text": [
            "Training: 100%|██████████| 45/45 [00:55<00:00,  1.24s/it]\n",
            "Evaluation: 100%|██████████| 11/11 [00:13<00:00,  1.25s/it]\n"
          ]
        },
        {
          "output_type": "stream",
          "name": "stdout",
          "text": [
            "Loss: 0.4708, IoU: 0.0000, Dice: 0.0000\n",
            "SegFormer Epoch 4/5\n"
          ]
        },
        {
          "output_type": "stream",
          "name": "stderr",
          "text": [
            "Training: 100%|██████████| 45/45 [00:56<00:00,  1.25s/it]\n",
            "Evaluation: 100%|██████████| 11/11 [00:13<00:00,  1.22s/it]\n"
          ]
        },
        {
          "output_type": "stream",
          "name": "stdout",
          "text": [
            "Loss: 0.3341, IoU: 0.0000, Dice: 0.0000\n",
            "SegFormer Epoch 5/5\n"
          ]
        },
        {
          "output_type": "stream",
          "name": "stderr",
          "text": [
            "Training: 100%|██████████| 45/45 [00:56<00:00,  1.25s/it]\n",
            "Evaluation: 100%|██████████| 11/11 [00:14<00:00,  1.29s/it]\n"
          ]
        },
        {
          "output_type": "stream",
          "name": "stdout",
          "text": [
            "Loss: 0.2320, IoU: 0.0000, Dice: 0.0000\n",
            "Evaluation:\n"
          ]
        },
        {
          "output_type": "stream",
          "name": "stderr",
          "text": [
            "Evaluation: 100%|██████████| 11/11 [00:15<00:00,  1.41s/it]\n"
          ]
        },
        {
          "output_type": "stream",
          "name": "stdout",
          "text": [
            "UNet: IoU=0.0335, Dice=0.0622\n"
          ]
        },
        {
          "output_type": "stream",
          "name": "stderr",
          "text": [
            "Evaluation: 100%|██████████| 11/11 [00:14<00:00,  1.30s/it]"
          ]
        },
        {
          "output_type": "stream",
          "name": "stdout",
          "text": [
            "SegFormer: IoU=0.0000, Dice=0.0000\n"
          ]
        },
        {
          "output_type": "stream",
          "name": "stderr",
          "text": [
            "\n"
          ]
        }
      ]
    },
    {
      "cell_type": "markdown",
      "source": [
        "Собственная имплементаация с улучшенным бейзлайном"
      ],
      "metadata": {
        "id": "gbcDI7yAVOjw"
      }
    },
    {
      "cell_type": "code",
      "source": [
        "class MyUNet(nn.Module):\n",
        "    def __init__(self, in_channels=3, num_classes=2, features=[64, 128, 256, 512]):\n",
        "        super(MyUNet, self).__init__()\n",
        "        self.downs = nn.ModuleList()\n",
        "        self.ups = nn.ModuleList()\n",
        "\n",
        "        for feature in features:\n",
        "            self.downs.append(DoubleConv(in_channels, feature))\n",
        "            in_channels = feature\n",
        "\n",
        "        self.bottleneck = DoubleConv(features[-1], features[-1]*2)\n",
        "        self.dropout = nn.Dropout(0.3)\n",
        "\n",
        "        for feature in reversed(features):\n",
        "            self.ups.append(nn.ConvTranspose2d(feature*2, feature, kernel_size=2, stride=2))\n",
        "            self.ups.append(DoubleConv(feature*2, feature))\n",
        "\n",
        "        self.final_conv = nn.Conv2d(features[0], num_classes, kernel_size=1)\n",
        "        self.pool = nn.MaxPool2d(kernel_size=2, stride=2)\n",
        "\n",
        "    def forward(self, x):\n",
        "        skip_connections = []\n",
        "\n",
        "        for down in self.downs:\n",
        "            x = down(x)\n",
        "            skip_connections.append(x)\n",
        "            x = self.pool(x)\n",
        "\n",
        "        x = self.bottleneck(x)\n",
        "        x = self.dropout(x)\n",
        "        skip_connections = skip_connections[::-1]\n",
        "\n",
        "        for idx in range(0, len(self.ups), 2):\n",
        "            x = self.ups[idx](x)\n",
        "            skip_connection = skip_connections[idx//2]\n",
        "\n",
        "            if x.shape != skip_connection.shape:\n",
        "                x = F.interpolate(x, size=skip_connection.shape[2:])\n",
        "\n",
        "            x = torch.cat((skip_connection, x), dim=1)\n",
        "            x = self.ups[idx+1](x)\n",
        "\n",
        "        return self.final_conv(x)\n",
        "\n",
        "\n",
        "class PatchEmbedding(nn.Module):\n",
        "    def __init__(self, in_channels=3, embed_dim=64, patch_size=4):\n",
        "        super().__init__()\n",
        "        self.proj = nn.Conv2d(in_channels, embed_dim, kernel_size=patch_size, stride=patch_size)\n",
        "\n",
        "    def forward(self, x):\n",
        "        return self.proj(x)\n",
        "\n",
        "class MLPDecoder(nn.Module):\n",
        "    def __init__(self, embed_dim, num_classes):\n",
        "        super().__init__()\n",
        "        self.decoder = nn.Sequential(\n",
        "            nn.Conv2d(embed_dim, embed_dim, kernel_size=3, padding=1),\n",
        "            nn.ReLU(inplace=True),\n",
        "            nn.Conv2d(embed_dim, num_classes, kernel_size=1)\n",
        "        )\n",
        "\n",
        "    def forward(self, x):\n",
        "        return self.decoder(x)\n",
        "\n",
        "class MySegformer(nn.Module):\n",
        "    def __init__(self, in_channels=3, num_classes=2, embed_dim=64):\n",
        "        super().__init__()\n",
        "        self.patch_embed = PatchEmbedding(in_channels, embed_dim=embed_dim, patch_size=4)\n",
        "\n",
        "        self.encoder = nn.Sequential(\n",
        "            nn.Conv2d(embed_dim, embed_dim, kernel_size=3, padding=1),\n",
        "            nn.BatchNorm2d(embed_dim),\n",
        "            nn.ReLU(inplace=True),\n",
        "            nn.Conv2d(embed_dim, embed_dim, kernel_size=3, padding=1),\n",
        "            nn.BatchNorm2d(embed_dim),\n",
        "            nn.ReLU(inplace=True),\n",
        "        )\n",
        "\n",
        "        self.decoder_head = MLPDecoder(embed_dim, num_classes)\n",
        "        self.upsample = nn.Upsample(scale_factor=4, mode='bilinear', align_corners=False)\n",
        "\n",
        "    def forward(self, x):\n",
        "        x = self.patch_embed(x)\n",
        "        x = self.encoder(x)\n",
        "        x = self.decoder_head(x)\n",
        "        x = self.upsample(x)\n",
        "        return x\n",
        "\n",
        "unet_model = MyUNet(in_channels=3, num_classes=NUM_CLASSES).to(DEVICE)\n",
        "segformer_model = MySegformer(in_channels=3, num_classes=NUM_CLASSES).to(DEVICE)\n",
        "optimizer = Adam(segformer_model.parameters(), lr=LEARNING_RATE)\n",
        "\n",
        "for epoch in range(EPOCHS):\n",
        "    print(f\"UNet Epoch {epoch+1}/{EPOCHS}\")\n",
        "    train_loss = train_epoch(unet_model, train_loader, loss_fn, optimizer)\n",
        "    iou, dice = evaluate(unet_model, val_loader)\n",
        "    print(f\"Loss: {train_loss:.4f}, IoU: {iou:.4f}, Dice: {dice:.4f}\")\n",
        "\n",
        "for epoch in range(EPOCHS):\n",
        "    print(f\"SegFormer Epoch {epoch+1}/{EPOCHS}\")\n",
        "    train_loss = train_epoch(segformer_model, train_loader, loss_fn, optimizer)\n",
        "    iou, dice = evaluate(segformer_model, val_loader)\n",
        "    print(f\"Loss: {train_loss:.4f}, IoU: {iou:.4f}, Dice: {dice:.4f}\")\n",
        "\n",
        "print(\"Evaluation:\")\n",
        "for model_name, model in [(\"UNet\", unet_model), (\"SegFormer\", segformer_model)]:\n",
        "    iou, dice = evaluate(model, val_loader)\n",
        "    print(f\"{model_name}: IoU={iou:.4f}, Dice={dice:.4f}\")"
      ],
      "metadata": {
        "colab": {
          "base_uri": "https://localhost:8080/"
        },
        "id": "uC2-igGcKQXR",
        "outputId": "2635e669-21af-455d-dbb7-7bb758364019"
      },
      "execution_count": 32,
      "outputs": [
        {
          "output_type": "stream",
          "name": "stdout",
          "text": [
            "UNet Epoch 1/5\n"
          ]
        },
        {
          "output_type": "stream",
          "name": "stderr",
          "text": [
            "Training: 100%|██████████| 45/45 [01:11<00:00,  1.59s/it]\n",
            "Evaluation: 100%|██████████| 11/11 [00:15<00:00,  1.44s/it]\n"
          ]
        },
        {
          "output_type": "stream",
          "name": "stdout",
          "text": [
            "Loss: 0.7223, IoU: 0.0152, Dice: 0.0295\n",
            "UNet Epoch 2/5\n"
          ]
        },
        {
          "output_type": "stream",
          "name": "stderr",
          "text": [
            "Training: 100%|██████████| 45/45 [01:04<00:00,  1.44s/it]\n",
            "Evaluation: 100%|██████████| 11/11 [00:14<00:00,  1.33s/it]\n"
          ]
        },
        {
          "output_type": "stream",
          "name": "stdout",
          "text": [
            "Loss: 0.7231, IoU: 0.0156, Dice: 0.0302\n",
            "UNet Epoch 3/5\n"
          ]
        },
        {
          "output_type": "stream",
          "name": "stderr",
          "text": [
            "Training: 100%|██████████| 45/45 [01:09<00:00,  1.55s/it]\n",
            "Evaluation: 100%|██████████| 11/11 [00:15<00:00,  1.41s/it]\n"
          ]
        },
        {
          "output_type": "stream",
          "name": "stdout",
          "text": [
            "Loss: 0.7235, IoU: 0.0149, Dice: 0.0289\n",
            "UNet Epoch 4/5\n"
          ]
        },
        {
          "output_type": "stream",
          "name": "stderr",
          "text": [
            "Training: 100%|██████████| 45/45 [01:05<00:00,  1.45s/it]\n",
            "Evaluation: 100%|██████████| 11/11 [00:14<00:00,  1.30s/it]\n"
          ]
        },
        {
          "output_type": "stream",
          "name": "stdout",
          "text": [
            "Loss: 0.7220, IoU: 0.0155, Dice: 0.0301\n",
            "UNet Epoch 5/5\n"
          ]
        },
        {
          "output_type": "stream",
          "name": "stderr",
          "text": [
            "Training: 100%|██████████| 45/45 [01:05<00:00,  1.46s/it]\n",
            "Evaluation: 100%|██████████| 11/11 [00:14<00:00,  1.31s/it]\n"
          ]
        },
        {
          "output_type": "stream",
          "name": "stdout",
          "text": [
            "Loss: 0.7220, IoU: 0.0154, Dice: 0.0298\n",
            "SegFormer Epoch 1/5\n"
          ]
        },
        {
          "output_type": "stream",
          "name": "stderr",
          "text": [
            "Training: 100%|██████████| 45/45 [00:55<00:00,  1.23s/it]\n",
            "Evaluation: 100%|██████████| 11/11 [00:13<00:00,  1.22s/it]\n"
          ]
        },
        {
          "output_type": "stream",
          "name": "stdout",
          "text": [
            "Loss: 0.3076, IoU: 0.0000, Dice: 0.0000\n",
            "SegFormer Epoch 2/5\n"
          ]
        },
        {
          "output_type": "stream",
          "name": "stderr",
          "text": [
            "Training: 100%|██████████| 45/45 [00:56<00:00,  1.26s/it]\n",
            "Evaluation: 100%|██████████| 11/11 [00:13<00:00,  1.22s/it]\n"
          ]
        },
        {
          "output_type": "stream",
          "name": "stdout",
          "text": [
            "Loss: 0.1061, IoU: 0.0000, Dice: 0.0000\n",
            "SegFormer Epoch 3/5\n"
          ]
        },
        {
          "output_type": "stream",
          "name": "stderr",
          "text": [
            "Training: 100%|██████████| 45/45 [00:55<00:00,  1.23s/it]\n",
            "Evaluation: 100%|██████████| 11/11 [00:13<00:00,  1.23s/it]\n"
          ]
        },
        {
          "output_type": "stream",
          "name": "stdout",
          "text": [
            "Loss: 0.0982, IoU: 0.0000, Dice: 0.0000\n",
            "SegFormer Epoch 4/5\n"
          ]
        },
        {
          "output_type": "stream",
          "name": "stderr",
          "text": [
            "Training: 100%|██████████| 45/45 [00:55<00:00,  1.24s/it]\n",
            "Evaluation: 100%|██████████| 11/11 [00:13<00:00,  1.22s/it]\n"
          ]
        },
        {
          "output_type": "stream",
          "name": "stdout",
          "text": [
            "Loss: 0.0933, IoU: 0.0000, Dice: 0.0000\n",
            "SegFormer Epoch 5/5\n"
          ]
        },
        {
          "output_type": "stream",
          "name": "stderr",
          "text": [
            "Training: 100%|██████████| 45/45 [00:55<00:00,  1.24s/it]\n",
            "Evaluation: 100%|██████████| 11/11 [00:14<00:00,  1.34s/it]\n"
          ]
        },
        {
          "output_type": "stream",
          "name": "stdout",
          "text": [
            "Loss: 0.0881, IoU: 0.0000, Dice: 0.0000\n",
            "Evaluation:\n"
          ]
        },
        {
          "output_type": "stream",
          "name": "stderr",
          "text": [
            "Evaluation: 100%|██████████| 11/11 [00:16<00:00,  1.46s/it]\n"
          ]
        },
        {
          "output_type": "stream",
          "name": "stdout",
          "text": [
            "UNet: IoU=0.0154, Dice=0.0298\n"
          ]
        },
        {
          "output_type": "stream",
          "name": "stderr",
          "text": [
            "Evaluation: 100%|██████████| 11/11 [00:14<00:00,  1.31s/it]"
          ]
        },
        {
          "output_type": "stream",
          "name": "stdout",
          "text": [
            "SegFormer: IoU=0.0000, Dice=0.0000\n"
          ]
        },
        {
          "output_type": "stream",
          "name": "stderr",
          "text": [
            "\n"
          ]
        }
      ]
    }
  ],
  "metadata": {
    "accelerator": "GPU",
    "colab": {
      "gpuType": "T4",
      "provenance": []
    },
    "kernelspec": {
      "display_name": "Python 3",
      "name": "python3"
    },
    "language_info": {
      "codemirror_mode": {
        "name": "ipython",
        "version": 3
      },
      "file_extension": ".py",
      "mimetype": "text/x-python",
      "name": "python",
      "nbconvert_exporter": "python",
      "pygments_lexer": "ipython3",
      "version": "3.8.0"
    }
  },
  "nbformat": 4,
  "nbformat_minor": 0
}